{
 "cells": [
  {
   "cell_type": "code",
   "execution_count": 1,
   "id": "f79e6320",
   "metadata": {},
   "outputs": [
    {
     "name": "stdout",
     "output_type": "stream",
     "text": [
      "===== Detect Brands - local =====\n",
      "Detecting brands in local image: \n",
      "'Tommy Hilfiger' brand detected with confidence 69.1% at location 215, 254, 146, 172\n",
      "\n",
      "===== Detect Brands - remote =====\n",
      "Detecting brands in remote image: \n",
      "'Microsoft' brand detected with confidence 62.5% at location 58, 113, 106, 152\n",
      "'Microsoft' brand detected with confidence 69.8% at location 58, 260, 86, 149\n",
      "\n"
     ]
    }
   ],
   "source": [
    "from azure.cognitiveservices.vision.computervision import ComputerVisionClient\n",
    "from azure.cognitiveservices.vision.computervision.models import OperationStatusCodes\n",
    "from azure.cognitiveservices.vision.computervision.models import VisualFeatureTypes\n",
    "from msrest.authentication import CognitiveServicesCredentials\n",
    "\n",
    "from array import array\n",
    "import os\n",
    "from PIL import Image\n",
    "import sys\n",
    "import time\n",
    "\n",
    "subscription_key = \"PASTE_YOUR_COMPUTER_VISION_SUBSCRIPTION_KEY_HERE\"\n",
    "endpoint = \"PASTE_YOUR_COMPUTER_VISION_ENDPOINT_HERE\n",
    "\"\n",
    "computervision_client = ComputerVisionClient(endpoint, CognitiveServicesCredentials(subscription_key))\n",
    "\n",
    "# Quickstart variables // These variables are shared by several examples\n",
    "#images_folder = os.path.join (os.path.dirname(os.path.abspath(__file__)), \"images\")\n",
    "images_folder = \"C:\\images\"\n",
    "remote_image_url = \"https://homepages.cae.wisc.edu/~ece533/images/airplane.png\"\n",
    "\n",
    "'''\n",
    "Detect Brands - local\n",
    "This example detects common brands like logos and puts a bounding box around them.\n",
    "'''\n",
    "print(\"===== Detect Brands - local =====\")\n",
    "# Open image file\n",
    "local_image_path_shirt = os.path.join (images_folder, \"gray-shirt-logo.jpg\")\n",
    "local_image_shirt = open(local_image_path_shirt, \"rb\")\n",
    "# Select the visual feature(s) you want\n",
    "local_image_features = [\"brands\"]\n",
    "# Call API with image and features\n",
    "detect_brands_results_local = computervision_client.analyze_image_in_stream(local_image_shirt, local_image_features)\n",
    "\n",
    "# Print detection results with bounding box and confidence score\n",
    "print(\"Detecting brands in local image: \")\n",
    "if len(detect_brands_results_local.brands) == 0:\n",
    "    print(\"No brands detected.\")\n",
    "else:\n",
    "    for brand in detect_brands_results_local.brands:\n",
    "        print(\"'{}' brand detected with confidence {:.1f}% at location {}, {}, {}, {}\".format( \\\n",
    "        brand.name, brand.confidence * 100, brand.rectangle.x, brand.rectangle.x + brand.rectangle.w, \\\n",
    "        brand.rectangle.y, brand.rectangle.y + brand.rectangle.h))\n",
    "print()\n",
    "'''\n",
    "END - Detect brands - local\n",
    "'''\n",
    "\n",
    "# <snippet_brands>\n",
    "'''\n",
    "Detect Brands - remote\n",
    "This example detects common brands like logos and puts a bounding box around them.\n",
    "'''\n",
    "print(\"===== Detect Brands - remote =====\")\n",
    "# Get a URL with a brand logo\n",
    "remote_image_url = \"https://docs.microsoft.com/en-us/azure/cognitive-services/computer-vision/images/gray-shirt-logo.jpg\"\n",
    "# Select the visual feature(s) you want\n",
    "remote_image_features = [\"brands\"]\n",
    "# Call API with URL and features\n",
    "detect_brands_results_remote = computervision_client.analyze_image(remote_image_url, remote_image_features)\n",
    "\n",
    "print(\"Detecting brands in remote image: \")\n",
    "if len(detect_brands_results_remote.brands) == 0:\n",
    "    print(\"No brands detected.\")\n",
    "else:\n",
    "    for brand in detect_brands_results_remote.brands:\n",
    "        print(\"'{}' brand detected with confidence {:.1f}% at location {}, {}, {}, {}\".format( \\\n",
    "        brand.name, brand.confidence * 100, brand.rectangle.x, brand.rectangle.x + brand.rectangle.w, \\\n",
    "        brand.rectangle.y, brand.rectangle.y + brand.rectangle.h))\n",
    "# </snippet_brands>\n",
    "print()"
   ]
  },
  {
   "cell_type": "code",
   "execution_count": null,
   "id": "0fa6f3e6",
   "metadata": {},
   "outputs": [],
   "source": []
  }
 ],
 "metadata": {
  "kernelspec": {
   "display_name": "Python 3",
   "language": "python",
   "name": "python3"
  },
  "language_info": {
   "codemirror_mode": {
    "name": "ipython",
    "version": 3
   },
   "file_extension": ".py",
   "mimetype": "text/x-python",
   "name": "python",
   "nbconvert_exporter": "python",
   "pygments_lexer": "ipython3",
   "version": "3.8.8"
  }
 },
 "nbformat": 4,
 "nbformat_minor": 5
}
