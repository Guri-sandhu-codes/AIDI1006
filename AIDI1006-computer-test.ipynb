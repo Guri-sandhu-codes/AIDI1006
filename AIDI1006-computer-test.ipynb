{
 "cells": [
  {
   "cell_type": "code",
   "execution_count": null,
   "id": "99822206",
   "metadata": {},
   "outputs": [],
   "source": [
    "self.Tempo = QtCore.QTimer(None)\n",
    "self.Cron = QtCore.QTime(0,0,0,0)\n",
    "\n",
    "def begin():\n",
    "    self.Cron.start()\n",
    "    self.Tempo.singleShot(999, update)       \n",
    "def update():\n",
    "    if self.lcdNumber.value() == 10:\n",
    "        finish()                \n",
    "    else:\n",
    "        self.lcdNumber.display(self.lcdNumber.value()+1)\n",
    "        #Here I want to make some processing stuff            \n",
    "        self.Tempo.singleShot(999, update)\n",
    "def finish():\n",
    "    print(\"end\")\n",
    "    took = self.Cron.elapsed() / 1000\n",
    "    print(\"took: {0} seconds\" .format(str(took)))\n",
    "    self.lcdNumber_2.display(took)"
   ]
  },
  {
   "cell_type": "code",
   "execution_count": null,
   "id": "6b4ab513",
   "metadata": {},
   "outputs": [],
   "source": [
    "from multiprocessing import Pool, cpu_count\n",
    "from datetime import datetime\n",
    "\n",
    "def stress_test(args):\n",
    "    cpu, value = args\n",
    "    start_time = datetime.now()\n",
    "    for i in range(value):\n",
    "        value = value * i\n",
    "    print(f\"cpu: {cpu} time: {datetime.now() - start_time}\")\n",
    "\n",
    "if __name__ == '__main__':\n",
    "    start_time = datetime.now()\n",
    "    cpu_count = cpu_count()\n",
    "    with Pool(cpu_count) as mp_pool:\n",
    "        mp_pool.map(stress_test, [(cpu, 100000000) for cpu in range(cpu_count)])\n",
    "    print(f\"total: {datetime.now() - start_time}\")"
   ]
  },
  {
   "cell_type": "code",
   "execution_count": null,
   "id": "792142c0",
   "metadata": {},
   "outputs": [],
   "source": [
    "import time\n",
    "\n",
    "t=[]\n",
    "\n",
    "for j in range(5):\n",
    "    l = []\n",
    "\n",
    "    pTime = time.time()\n",
    "\n",
    "    for i in range(10000000):\n",
    "        l.append(i)\n",
    "\n",
    "    print('test took: ' + str(time.time() - pTime) + ' units time')\n",
    "    t.append(time.time() - pTime)\n",
    "\n",
    "s = 0\n",
    "for i in t:\n",
    "    s = s + i\n",
    "\n",
    "print('average time = ' + str(s/len(t)))"
   ]
  },
  {
   "cell_type": "code",
   "execution_count": null,
   "id": "313ca20e",
   "metadata": {},
   "outputs": [],
   "source": []
  }
 ],
 "metadata": {
  "kernelspec": {
   "display_name": "Python 3 (ipykernel)",
   "language": "python",
   "name": "python3"
  },
  "language_info": {
   "codemirror_mode": {
    "name": "ipython",
    "version": 3
   },
   "file_extension": ".py",
   "mimetype": "text/x-python",
   "name": "python",
   "nbconvert_exporter": "python",
   "pygments_lexer": "ipython3",
   "version": "3.11.3"
  }
 },
 "nbformat": 4,
 "nbformat_minor": 5
}
