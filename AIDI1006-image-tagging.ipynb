{
 "cells": [
  {
   "cell_type": "code",
   "execution_count": 1,
   "id": "e16d9b7f",
   "metadata": {},
   "outputs": [
    {
     "name": "stdout",
     "output_type": "stream",
     "text": [
      "===== Tag an image - remote =====\n",
      "Tags in the remote image: \n",
      "'clothing' with confidence 99.95%\n",
      "'person' with confidence 99.90%\n",
      "'human face' with confidence 99.74%\n",
      "'outdoor' with confidence 99.47%\n",
      "'smile' with confidence 90.81%\n",
      "'people' with confidence 86.09%\n",
      "'mammal' with confidence 84.10%\n",
      "'woman' with confidence 74.32%\n",
      "'standing' with confidence 72.33%\n",
      "'street' with confidence 58.61%\n"
     ]
    }
   ],
   "source": [
    "    from azure.cognitiveservices.vision.computervision import ComputerVisionClient\n",
    "    from msrest.authentication import CognitiveServicesCredentials\n",
    "    \n",
    "    # Authenticate // Authenticates your credentials and creates a client.\n",
    "    subscription_key = \"PASTE_YOUR_SUBSCRIPTION_KEY_HERE\"\n",
    "    endpoint = \"PASTE_YOUR_ENDPOINT_HERE\"\n",
    "    \n",
    "    computervision_client = ComputerVisionClient(endpoint, CognitiveServicesCredentials(subscription_key))\n",
    "    remote_image_url = \"https://health.gov/sites/default/files/styles/max_650x650/public/2020-12/HP2030-LHI.jpg?itok=OrfQg4kM\"\n",
    "    \n",
    "    # Tag an Image - remote // This example returns a tag (key word) for each thing in the image.\n",
    "        print(\"===== Tag an image - remote =====\")\n",
    "    # Call API with remote image\n",
    "    tags_result_remote = computervision_client.tag_image(remote_image_url)\n",
    "    \n",
    "    # Print results with confidence score\n",
    "    print(\"Tags in the remote image: \")\n",
    "    if (len(tags_result_remote.tags) == 0):\n",
    "        print(\"No tags detected.\")\n",
    "    else:\n",
    "        for tag in tags_result_remote.tags:\n",
    "            print(\"'{}' with confidence {:.2f}%\".format(tag.name, tag.confidence * 100))\n"
   ]
  },
  {
   "cell_type": "code",
   "execution_count": null,
   "id": "e046c70e",
   "metadata": {},
   "outputs": [],
   "source": []
  },
  {
   "cell_type": "code",
   "execution_count": null,
   "id": "9a2fdd90",
   "metadata": {},
   "outputs": [],
   "source": []
  }
 ],
 "metadata": {
  "kernelspec": {
   "display_name": "Python 3",
   "language": "python",
   "name": "python3"
  },
  "language_info": {
   "codemirror_mode": {
    "name": "ipython",
    "version": 3
   },
   "file_extension": ".py",
   "mimetype": "text/x-python",
   "name": "python",
   "nbconvert_exporter": "python",
   "pygments_lexer": "ipython3",
   "version": "3.8.8"
  }
 },
 "nbformat": 4,
 "nbformat_minor": 5
}
